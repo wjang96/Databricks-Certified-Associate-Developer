{
 "cells": [
  {
   "cell_type": "code",
   "execution_count": 1,
   "id": "84aa369b",
   "metadata": {},
   "outputs": [
    {
     "name": "stdout",
     "output_type": "stream",
     "text": [
      "GeekforGeeks\n"
     ]
    }
   ],
   "source": [
    "class GeekforGeeks:\n",
    " \n",
    "    # default constructor\n",
    "    def __init__(self):\n",
    "        self.geek = \"GeekforGeeks\"\n",
    " \n",
    "    # a method for printing data members\n",
    "    def print_Geek(self):\n",
    "        print(self.geek)\n",
    " \n",
    " \n",
    "# creating object of the class\n",
    "obj = GeekforGeeks()\n",
    " \n",
    "# calling the instance method using the object obj\n",
    "obj.print_Geek()"
   ]
  },
  {
   "cell_type": "code",
   "execution_count": 2,
   "id": "0ab90b58",
   "metadata": {},
   "outputs": [
    {
     "name": "stdout",
     "output_type": "stream",
     "text": [
      "First number = 1000\n",
      "Second number = 2000\n",
      "Addition of two numbers = 3000\n"
     ]
    }
   ],
   "source": [
    "\n",
    "class Addition:\n",
    "    first = 0\n",
    "    second = 0\n",
    "    answer = 0\n",
    "     \n",
    "    # parameterized constructor\n",
    "    def __init__(self, f, s):\n",
    "        self.first = f\n",
    "        self.second = s\n",
    "     \n",
    "    def display(self):\n",
    "        print(\"First number = \" + str(self.first))\n",
    "        print(\"Second number = \" + str(self.second))\n",
    "        print(\"Addition of two numbers = \" + str(self.answer))\n",
    " \n",
    "    def calculate(self):\n",
    "        self.answer = self.first + self.second\n",
    " \n",
    "# creating object of the class\n",
    "# this will invoke parameterized constructor\n",
    "obj = Addition(1000, 2000)\n",
    " \n",
    "# perform Addition\n",
    "obj.calculate()\n",
    " \n",
    "# display result\n",
    "obj.display()"
   ]
  },
  {
   "cell_type": "code",
   "execution_count": null,
   "id": "b5684c12",
   "metadata": {},
   "outputs": [],
   "source": []
  }
 ],
 "metadata": {
  "kernelspec": {
   "display_name": "Python 3 (ipykernel)",
   "language": "python",
   "name": "python3"
  },
  "language_info": {
   "codemirror_mode": {
    "name": "ipython",
    "version": 3
   },
   "file_extension": ".py",
   "mimetype": "text/x-python",
   "name": "python",
   "nbconvert_exporter": "python",
   "pygments_lexer": "ipython3",
   "version": "3.9.13"
  }
 },
 "nbformat": 4,
 "nbformat_minor": 5
}
