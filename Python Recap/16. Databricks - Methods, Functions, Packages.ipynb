{
 "cells": [
  {
   "cell_type": "code",
   "execution_count": 1,
   "id": "b93af066",
   "metadata": {},
   "outputs": [
    {
     "name": "stdout",
     "output_type": "stream",
     "text": [
      "The result is: even\n"
     ]
    }
   ],
   "source": [
    "def evenOdd(num):\n",
    "  \"\"\"Returns the string \"even\", \"odd\", or \"UNKNOWN\".\"\"\"\n",
    "  \n",
    "  if num % 2 == 0:\n",
    "    return \"even\"\n",
    "  elif num % 2 == 1:\n",
    "    return \"odd\"\n",
    "  else:\n",
    "    return \"UNKNOWN\"\n",
    "\n",
    "# execute the function by passing it a number\n",
    "result = evenOdd(42)\n",
    "print(f\"The result is: {result}\")"
   ]
  },
  {
   "cell_type": "code",
   "execution_count": 2,
   "id": "ef97bc68",
   "metadata": {},
   "outputs": [],
   "source": [
    "def documentedEvenOdd(num):\n",
    "  \"\"\"\n",
    "  Returns the string \"even\", \"odd\", or \"UNKNOWN\".\n",
    "  \n",
    "  This would be a more verbose description of \n",
    "  what this function might do and could drone \n",
    "  one for quite a while\n",
    "  \n",
    "  Args:\n",
    "    num (int): The number to be tested as even or odd\n",
    "    \n",
    "  Returns:\n",
    "    str: \"even\" if the number is even, \"odd\" if the number is odd or \"UNKNOWN\"\n",
    "    \n",
    "  Examples:\n",
    "    evenOdd(32)\n",
    "    evenOdd(13)\n",
    "  \"\"\"\n",
    "    \n",
    "  if num % 2 == 0:\n",
    "    return \"even\"\n",
    "  elif num % 2 == 1:\n",
    "    return \"odd\"\n",
    "  else:\n",
    "    return \"UNKNOWN\""
   ]
  },
  {
   "cell_type": "code",
   "execution_count": 3,
   "id": "f1e17a0d",
   "metadata": {},
   "outputs": [
    {
     "name": "stdout",
     "output_type": "stream",
     "text": [
      "Help on function documentedEvenOdd in module __main__:\n",
      "\n",
      "documentedEvenOdd(num)\n",
      "    Returns the string \"even\", \"odd\", or \"UNKNOWN\".\n",
      "    \n",
      "    This would be a more verbose description of \n",
      "    what this function might do and could drone \n",
      "    one for quite a while\n",
      "    \n",
      "    Args:\n",
      "      num (int): The number to be tested as even or odd\n",
      "      \n",
      "    Returns:\n",
      "      str: \"even\" if the number is even, \"odd\" if the number is odd or \"UNKNOWN\"\n",
      "      \n",
      "    Examples:\n",
      "      evenOdd(32)\n",
      "      evenOdd(13)\n",
      "\n"
     ]
    }
   ],
   "source": [
    "help(documentedEvenOdd) #this display the information ''''''"
   ]
  },
  {
   "cell_type": "markdown",
   "id": "c501ef13",
   "metadata": {},
   "source": [
    "<h>Type Hint</h>"
   ]
  },
  {
   "cell_type": "code",
   "execution_count": 6,
   "id": "5c263c7a",
   "metadata": {},
   "outputs": [
    {
     "name": "stdout",
     "output_type": "stream",
     "text": [
      "The result is \"EVEN\" and of type <class 'str'>\n",
      "The result is \"False\" and of type <class 'bool'>\n",
      "The result is \"0\" and of type <class 'int'>\n"
     ]
    }
   ],
   "source": [
    "def evenOddInt(num:int, evenLabel:str, oddLabel:str) -> str:\n",
    "  if num % 2 == 0:\n",
    "    return evenLabel\n",
    "  elif num % 2 == 1:\n",
    "    return oddLabel\n",
    "  else:\n",
    "    return \"UNKNOWN\"\n",
    "\n",
    "# execute the function by passing it a number\n",
    "evenOddInt(42, \"even\", \"odd\")\n",
    "\n",
    "resultA = evenOddInt(12, \"EVEN\", \"ODD\")\n",
    "print(f\"\"\"The result is \"{resultA}\" and of type {type(resultA)}\"\"\")\n",
    "\n",
    "resultB = evenOddInt(13, True, False)\n",
    "print(f\"\"\"The result is \"{resultB}\" and of type {type(resultB)}\"\"\")\n",
    "\n",
    "resultC = evenOddInt(17, 1, 0)\n",
    "print(f\"\"\"The result is \"{resultC}\" and of type {type(resultC)}\"\"\")"
   ]
  },
  {
   "cell_type": "markdown",
   "id": "547fb6ee",
   "metadata": {},
   "source": [
    "##Question: If type hints won't stop callers of my function from passing the wrong value, what can I do?\n",
    "##Hint: Consider the following version of our even/odd method:"
   ]
  },
  {
   "cell_type": "code",
   "execution_count": 18,
   "id": "e0f8082c",
   "metadata": {},
   "outputs": [
    {
     "name": "stdout",
     "output_type": "stream",
     "text": [
      "EVEN\n",
      "False\n"
     ]
    },
    {
     "ename": "AssertionError",
     "evalue": "Expected num to be type int, but found <class 'str'>",
     "output_type": "error",
     "traceback": [
      "\u001b[1;31m---------------------------------------------------------------------------\u001b[0m",
      "\u001b[1;31mAssertionError\u001b[0m                            Traceback (most recent call last)",
      "\u001b[1;32mC:\\Users\\WEIJIN~1\\AppData\\Local\\Temp/ipykernel_26472/764180347.py\u001b[0m in \u001b[0;36m<module>\u001b[1;34m\u001b[0m\n\u001b[0;32m     16\u001b[0m \u001b[1;31m# But can we stop this code from executing?\u001b[0m\u001b[1;33m\u001b[0m\u001b[1;33m\u001b[0m\u001b[0m\n\u001b[0;32m     17\u001b[0m \u001b[0mprint\u001b[0m\u001b[1;33m(\u001b[0m \u001b[0mevenOddInt\u001b[0m\u001b[1;33m(\u001b[0m\u001b[1;36m13\u001b[0m\u001b[1;33m,\u001b[0m \u001b[1;32mTrue\u001b[0m\u001b[1;33m,\u001b[0m \u001b[1;32mFalse\u001b[0m\u001b[1;33m)\u001b[0m \u001b[1;33m)\u001b[0m\u001b[1;33m\u001b[0m\u001b[1;33m\u001b[0m\u001b[0m\n\u001b[1;32m---> 18\u001b[1;33m \u001b[0mprint\u001b[0m\u001b[1;33m(\u001b[0m \u001b[0mevenOddInt\u001b[0m\u001b[1;33m(\u001b[0m\u001b[1;34m\"test\"\u001b[0m\u001b[1;33m,\u001b[0m \u001b[1;36m1\u001b[0m\u001b[1;33m,\u001b[0m \u001b[1;36m0\u001b[0m\u001b[1;33m)\u001b[0m \u001b[1;33m)\u001b[0m\u001b[1;33m\u001b[0m\u001b[1;33m\u001b[0m\u001b[0m\n\u001b[0m",
      "\u001b[1;32mC:\\Users\\WEIJIN~1\\AppData\\Local\\Temp/ipykernel_26472/764180347.py\u001b[0m in \u001b[0;36mevenOddInt\u001b[1;34m(num, evenLabel, oddLabel)\u001b[0m\n\u001b[0;32m      2\u001b[0m   \u001b[1;31m# What can one do to protect a function from bad input?\u001b[0m\u001b[1;33m\u001b[0m\u001b[1;33m\u001b[0m\u001b[0m\n\u001b[0;32m      3\u001b[0m   \u001b[1;31m# ans\u001b[0m\u001b[1;33m\u001b[0m\u001b[1;33m\u001b[0m\u001b[0m\n\u001b[1;32m----> 4\u001b[1;33m     \u001b[1;32massert\u001b[0m \u001b[0mtype\u001b[0m\u001b[1;33m(\u001b[0m\u001b[0mnum\u001b[0m\u001b[1;33m)\u001b[0m \u001b[1;33m==\u001b[0m \u001b[0mint\u001b[0m\u001b[1;33m,\u001b[0m \u001b[1;34mf\"Expected num to be type int, but found {type(num)}\"\u001b[0m\u001b[1;33m\u001b[0m\u001b[1;33m\u001b[0m\u001b[0m\n\u001b[0m\u001b[0;32m      5\u001b[0m \u001b[1;33m\u001b[0m\u001b[0m\n\u001b[0;32m      6\u001b[0m     \u001b[1;32mif\u001b[0m \u001b[0mnum\u001b[0m \u001b[1;33m%\u001b[0m \u001b[1;36m2\u001b[0m \u001b[1;33m==\u001b[0m \u001b[1;36m0\u001b[0m\u001b[1;33m:\u001b[0m\u001b[1;33m\u001b[0m\u001b[1;33m\u001b[0m\u001b[0m\n",
      "\u001b[1;31mAssertionError\u001b[0m: Expected num to be type int, but found <class 'str'>"
     ]
    }
   ],
   "source": [
    "def evenOddInt(num:int, evenLabel:str, oddLabel:str) -> str:\n",
    "  # What can one do to protect a function from bad input?\n",
    "  # ans\n",
    "    assert type(num) == int, f\"Expected num to be type int, but found {type(num)}\"\n",
    "    \n",
    "    if num % 2 == 0:\n",
    "        return evenLabel\n",
    "    elif num % 2 == 1:\n",
    "        return oddLabel\n",
    "    else:\n",
    "        return \"UNKNOWN\"\n",
    "\n",
    "# This should always work\n",
    "print( evenOddInt(12, \"EVEN\", \"ODD\") )\n",
    "\n",
    "# But can we stop this code from executing?\n",
    "print( evenOddInt(13, True, False) )\n",
    "print( evenOddInt(\"test\", 1, 0) )"
   ]
  },
  {
   "cell_type": "code",
   "execution_count": 4,
   "id": "6edc949f",
   "metadata": {},
   "outputs": [
    {
     "name": "stdout",
     "output_type": "stream",
     "text": [
      "even\n",
      "EVEN\n",
      "impair\n"
     ]
    }
   ],
   "source": [
    "def evenOddInt(num: int, evenLabel:str = \"even\", oddLabel:str = \"odd\") -> str: #that is the way to put default value in functions\n",
    "    # when using function, when the paramter is not defined, it will take the default value\n",
    "    \n",
    "  if num % 2 == 0:\n",
    "    return evenLabel\n",
    "  elif num % 2 == 1:\n",
    "    return oddLabel\n",
    "  else:\n",
    "    return \"UNKNOWN\"\n",
    "\n",
    "# execute the function by passing it a number\n",
    "print(evenOddInt(42))\n",
    "print(evenOddInt(32, \"EVEN\", \"ODD\"))\n",
    "print(evenOddInt(65, \"pair\", \"impair\"))"
   ]
  },
  {
   "cell_type": "markdown",
   "id": "bbc003c7",
   "metadata": {},
   "source": [
    "## Named Arguments\n",
    "\n",
    "Hint: Calling a function that has 3+ aruments can make your code far more readable.\n",
    "\n",
    "Compare the two examples:\n",
    "\n",
    "db.record(\"Mike\", \"Smith\", 32, 1695, \"Plummer Dr\", 75087)\n",
    "\n",
    "db.record(first=\"Mike\", last=\"Smith\", age=32, house_num=1695, street=\"Plummer Dr\", zip=75087)"
   ]
  },
  {
   "cell_type": "markdown",
   "id": "f1785029",
   "metadata": {},
   "source": [
    "## Arbitrary Arguments\n",
    "\n",
    "You can define a function in Python that accepts an arbitrary number of arguments with syntax like this:\n",
    "\n",
    "def my_func(*args):\n",
    "  ...\n",
    "The parameter name args is not required, but it is a common convention.\n",
    "\n",
    "The args parameter is treated as a sequence containing all of the arguments passed to the function."
   ]
  },
  {
   "cell_type": "code",
   "execution_count": 21,
   "id": "ae476bb2",
   "metadata": {},
   "outputs": [
    {
     "name": "stdout",
     "output_type": "stream",
     "text": [
      "Example A: 15\n",
      "Example B: 64\n",
      "Example C: 13\n",
      "Example D: 0\n"
     ]
    }
   ],
   "source": [
    "def sum(*args):\n",
    "  total = 0\n",
    "  for value in args:\n",
    "    total += value\n",
    "  return total\n",
    "\n",
    "sum_a = sum(1, 2, 3, 4, 5)\n",
    "sum_b = sum(32, 123, -100, 9)\n",
    "sum_c = sum(13)\n",
    "sum_d = sum()\n",
    "\n",
    "print(f\"Example A: {sum_a}\")\n",
    "print(f\"Example B: {sum_b}\")\n",
    "print(f\"Example C: {sum_c}\")\n",
    "print(f\"Example D: {sum_d}\")"
   ]
  },
  {
   "cell_type": "markdown",
   "id": "fe86c545",
   "metadata": {},
   "source": [
    "## Arbitrary Keyword Arguments\n",
    "\n",
    "A Python function can also accept arbitrary named arguments, which are referred to as _keyword arguments_, with syntax like this:\n",
    "\n",
    "```\n",
    "def my_func(**kwargs):\n",
    "  ...\n",
    "```\n",
    "The parameter name kwargs is not required, but it is a common convention.\n",
    "\n",
    "The kwargs parameter is treated as a dictionary containing all of the argument names and values passed to the function."
   ]
  },
  {
   "cell_type": "code",
   "execution_count": 22,
   "id": "bfa6b6ba",
   "metadata": {},
   "outputs": [
    {
     "name": "stdout",
     "output_type": "stream",
     "text": [
      "Arguments received:\n",
      "  first_name      = Jeff\n",
      "  last_name       = Lebowski\n",
      "  drink           = White Russian\n",
      "\n",
      "Arguments received:\n",
      "  movie_title     = The Big Lebowski\n",
      "  release_year    = 1998\n",
      "\n"
     ]
    }
   ],
   "source": [
    "def my_func(**kwargs):\n",
    "  print(\"Arguments received:\")\n",
    "  for key in kwargs:\n",
    "    value = kwargs[key]\n",
    "    print(f\"  {key:15s} = {value}\")\n",
    "  print()\n",
    "\n",
    "my_func(first_name=\"Jeff\", last_name=\"Lebowski\", drink=\"White Russian\")\n",
    "\n",
    "my_func(movie_title=\"The Big Lebowski\", release_year=1998)"
   ]
  },
  {
   "cell_type": "markdown",
   "id": "be546a23",
   "metadata": {},
   "source": [
    "## Methods\n",
    "\n",
    "In Python, a Method refers to a special kind of function that is applied to an object.\n",
    "\n",
    "We will talk more about objects and classes in a later lesson, but for now, consdier that:\n",
    "* A function only operates on the parameters passed to it (generally).\n",
    "* A method has parameters, but it also has additional state as defined by the object it is attached to.\n",
    "\n",
    "For example, a string (**`str`**) is a type of object:"
   ]
  },
  {
   "cell_type": "code",
   "execution_count": 1,
   "id": "73c64fcf",
   "metadata": {},
   "outputs": [
    {
     "name": "stdout",
     "output_type": "stream",
     "text": [
      "Databricks\n",
      "DATABRICKS\n",
      "I found 2 instances of that substring\n"
     ]
    }
   ],
   "source": [
    "name = 'Databricks'\n",
    "print(name)\n",
    "result = name.upper()\n",
    "print(result)\n",
    "total = name.count('a')\n",
    "print(f\"I found {total} instances of that substring\")"
   ]
  },
  {
   "cell_type": "code",
   "execution_count": 2,
   "id": "3080117e",
   "metadata": {},
   "outputs": [],
   "source": [
    "def fizzBuzz(num:int) -> str:\n",
    "    if (num % 5 == 0) and (num % 3 == 0):\n",
    "        return \"FizzBuzz\"\n",
    "    "
   ]
  },
  {
   "cell_type": "code",
   "execution_count": 8,
   "id": "b4c621ff",
   "metadata": {},
   "outputs": [],
   "source": [
    "# ANSWER\n",
    "def fizzBuzz(num:int) -> str:\n",
    "  assert type(num) == int, \"Expected num to be of type int, found {type(num)}\"\n",
    "  \n",
    "  if (num % 5 == 0) and (num % 3 == 0):\n",
    "    return \"FizzBuzz\"\n",
    "  elif num % 5 == 0:\n",
    "    return \"Buzz\"\n",
    "  elif num % 3 == 0:\n",
    "    return \"Fizz\"\n",
    "  else:\n",
    "    return str(num)"
   ]
  },
  {
   "cell_type": "code",
   "execution_count": 9,
   "id": "dd003558",
   "metadata": {},
   "outputs": [],
   "source": [
    "expected = \"Fizz\"\n",
    "result = fizzBuzz(3)\n",
    "assert type(result) == str, f\"Expected actual to be of type str, but found {type(result)}.\"\n",
    "assert result == expected, f\"\"\"Expected \"{expected}\", but found \"{result}\".\"\"\"\n",
    "\n",
    "expected = \"Buzz\"\n",
    "result = fizzBuzz(5)\n",
    "assert type(result) == str, f\"Expected actual to be of type str, but found {type(actresultual)}.\"\n",
    "assert result == expected, f\"\"\"Expected \"{expected}\", but found \"{result}\".\"\"\"\n",
    "\n",
    "expected = \"FizzBuzz\"\n",
    "result = fizzBuzz(15)\n",
    "assert type(result) == str, f\"Expected actual to be of type str, but found {type(result)}.\"\n",
    "assert result == expected, f\"\"\"Expected \"{expected}\", but found \"{result}\".\"\"\"\n",
    "\n",
    "expected = \"7\"\n",
    "result = fizzBuzz(7)\n",
    "assert type(result) == str, f\"Expected actual to be of type str, but found {type(result)}.\"\n",
    "assert result == expected, f\"\"\"Expected \"{expected}\", but found \"{result}\".\"\"\""
   ]
  },
  {
   "cell_type": "code",
   "execution_count": 10,
   "id": "80a735ad",
   "metadata": {},
   "outputs": [],
   "source": [
    "#ANSWER\n",
    "\n",
    "def testFizzBuzz(num, expected):\n",
    "  result = fizzBuzz(num)\n",
    "  assert type(result) == str, f\"For {num}, expected actual to be of type str, but found {type(result)}.\"\"\"\n",
    "  assert result == expected, f\"\"\"For {num}, expected \"{expected}\", but found \"{result}\".\"\"\"\n",
    "\n",
    "test_numbers = [0, 1, 2, 3, 5, 15]\n",
    "expectations = [\"FizzBuzz\", \"1\", \"2\", \"Fizz\", \"Buzz\", \"FizzBuzz\"]\n",
    "\n",
    "for i in range(5):\n",
    "  num = test_numbers[i]\n",
    "  expected = expectations[i]\n",
    "  testFizzBuzz(num, expected)"
   ]
  },
  {
   "cell_type": "code",
   "execution_count": null,
   "id": "43d850a1",
   "metadata": {},
   "outputs": [],
   "source": []
  }
 ],
 "metadata": {
  "kernelspec": {
   "display_name": "Python 3 (ipykernel)",
   "language": "python",
   "name": "python3"
  },
  "language_info": {
   "codemirror_mode": {
    "name": "ipython",
    "version": 3
   },
   "file_extension": ".py",
   "mimetype": "text/x-python",
   "name": "python",
   "nbconvert_exporter": "python",
   "pygments_lexer": "ipython3",
   "version": "3.9.13"
  }
 },
 "nbformat": 4,
 "nbformat_minor": 5
}
