{
 "cells": [
  {
   "cell_type": "code",
   "execution_count": 2,
   "id": "6309f5db",
   "metadata": {},
   "outputs": [
    {
     "name": "stdout",
     "output_type": "stream",
     "text": [
      "You had 4 items for breakfast\n",
      "The \"min\" value in the list is \"apple\".\n",
      "The \"max\" value in the list is \"pancakes\".\n",
      "You had 7 items for breakfast\n",
      "The \"min\" value in the list is 1.\n",
      "The \"max\" value in the list is 54.\n"
     ]
    }
   ],
   "source": [
    "breakfast_list = [\"pancakes\", \"eggs\", \"apple\", \"chicken\"]\n",
    "\n",
    "item_count = len(breakfast_list)\n",
    "item_min = min(breakfast_list)\n",
    "item_max = max(breakfast_list)\n",
    "\n",
    "print(f\"You had {item_count} items for breakfast\")\n",
    "print(f\"\"\"The \"min\" value in the list is \"{item_min}\".\"\"\")\n",
    "print(f\"\"\"The \"max\" value in the list is \"{item_max}\".\"\"\")\n",
    "\n",
    "some_numbers = [1, 32, 22, 54, 21, 32, 30]\n",
    "\n",
    "item_count = len(some_numbers)\n",
    "min_value = min(some_numbers)\n",
    "max_value = max(some_numbers)\n",
    "\n",
    "print(f\"You had {item_count} items for breakfast\")\n",
    "print(f\"\"\"The \"min\" value in the list is {min_value}.\"\"\")\n",
    "print(f\"\"\"The \"max\" value in the list is {max_value}.\"\"\")"
   ]
  },
  {
   "cell_type": "code",
   "execution_count": 1,
   "id": "2096708d",
   "metadata": {},
   "outputs": [
    {
     "name": "stdout",
     "output_type": "stream",
     "text": [
      "You had 7 items for breakfast\n",
      "The \"min\" value in the list is 1.\n",
      "The \"max\" value in the list is 54.\n"
     ]
    }
   ],
   "source": [
    "some_numbers = [1, 32, 22, 54, 21, 32, 30]\n",
    "\n",
    "item_count = len(some_numbers)\n",
    "min_value = min(some_numbers)\n",
    "max_value = max(some_numbers)\n",
    "\n",
    "print(f\"You had {item_count} items for breakfast\")\n",
    "print(f\"\"\"The \"min\" value in the list is {min_value}.\"\"\")\n",
    "print(f\"\"\"The \"max\" value in the list is {max_value}.\"\"\")"
   ]
  },
  {
   "cell_type": "markdown",
   "id": "7e71641a",
   "metadata": {},
   "source": [
    "## List Comprehensions\n",
    "\n",
    "A common task is to take a collection of values and create a new collection that is a transformation of the original values.\n",
    "\n",
    "You can do this explicitly with a **`for-in`** expression."
   ]
  },
  {
   "cell_type": "code",
   "execution_count": 5,
   "id": "ef2ede73",
   "metadata": {},
   "outputs": [
    {
     "name": "stdout",
     "output_type": "stream",
     "text": [
      "Before transformation: ['pancakes', 'eggs', 'apple', 'chicken']\n",
      "After transformation:  ['Pancakes', 'Eggs', 'Apple', 'Chicken']\n"
     ]
    }
   ],
   "source": [
    "breakfast_list = [\"pancakes\", \"eggs\", \"apple\", \"chicken\"]\n",
    "print(f\"Before transformation: {breakfast_list}\")\n",
    "\n",
    "caps_list = []  # Create an empty list\n",
    "      \n",
    "for item in breakfast_list:\n",
    "  caps_list.append(item.capitalize())\n",
    "  \n",
    "print(f\"After transformation:  {caps_list}\")"
   ]
  },
  {
   "cell_type": "markdown",
   "id": "2d52692e",
   "metadata": {},
   "source": [
    "A more compact and efficient technique to accomplish the same thing is a _list comprehension_. \n",
    "\n",
    "The following is equivalent to the example above:"
   ]
  },
  {
   "cell_type": "code",
   "execution_count": 6,
   "id": "63e6d296",
   "metadata": {},
   "outputs": [
    {
     "name": "stdout",
     "output_type": "stream",
     "text": [
      "Before transformation: ['pancakes', 'eggs', 'apple', 'chicken']\n",
      "After transformation:  ['Pancakes', 'Eggs', 'Apple', 'Chicken']\n"
     ]
    }
   ],
   "source": [
    "breakfast_list = [\"pancakes\", \"eggs\", \"apple\", \"chicken\"]\n",
    "print(f\"Before transformation: {breakfast_list}\")\n",
    "\n",
    "comp_caps_list = [item.capitalize() for item in breakfast_list]\n",
    "\n",
    "print(f\"After transformation:  {comp_caps_list}\")"
   ]
  },
  {
   "cell_type": "code",
   "execution_count": 3,
   "id": "71f4aa77",
   "metadata": {},
   "outputs": [
    {
     "name": "stdout",
     "output_type": "stream",
     "text": [
      "Before filtering: ['pancakes', 'eggs', 'apple', 'chicken']\n",
      "After filtering:  ['PANCAKES', 'CHICKEN']\n"
     ]
    }
   ],
   "source": [
    "breakfast_list = [\"pancakes\", \"eggs\", \"apple\", \"chicken\"]\n",
    "print(f\"Before filtering: {breakfast_list}\")\n",
    "\n",
    "comp_caps_list = [item.capitalize() for item in breakfast_list]\n",
    "\n",
    "short_list = [item.upper() for item in breakfast_list if len(item) >= 7]\n",
    "print(f\"After filtering:  {short_list}\")"
   ]
  },
  {
   "cell_type": "code",
   "execution_count": 8,
   "id": "b3a916a6",
   "metadata": {},
   "outputs": [
    {
     "name": "stdout",
     "output_type": "stream",
     "text": [
      "{'eggs': 160, 'apple': 100, 'pancakes': 400, 'waffles': 300}\n"
     ]
    }
   ],
   "source": [
    "breakfast_dict = {\n",
    "  \"eggs\": 160,\n",
    "  \"apple\": 100,\n",
    "  \"pancakes\": 400,\n",
    "  \"waffles\": 300,\n",
    "}\n",
    "print(breakfast_dict)"
   ]
  },
  {
   "cell_type": "code",
   "execution_count": 13,
   "id": "41f2410c",
   "metadata": {},
   "outputs": [
    {
     "data": {
      "text/plain": [
       "300"
      ]
     },
     "execution_count": 13,
     "metadata": {},
     "output_type": "execute_result"
    }
   ],
   "source": [
    "#breakfast_dict[\"oatmeal\"] # can try run this line and see the error \n",
    "breakfast_dict[\"waffles\"]"
   ]
  },
  {
   "cell_type": "markdown",
   "id": "aeb71f6b",
   "metadata": {},
   "source": [
    "Alternatively, you can use the dictionary **`get()`** method.\n",
    "\n",
    "This returns the value for the given key if present.\n",
    "\n",
    "If the key is not present in the dictionary, **`get()`** returns either the specified default value or **`None`**."
   ]
  },
  {
   "cell_type": "code",
   "execution_count": 10,
   "id": "8324be79",
   "metadata": {},
   "outputs": [
    {
     "name": "stdout",
     "output_type": "stream",
     "text": [
      "Your oatmeal had -1 calories.\n",
      "Your waffles had 300 calories.\n"
     ]
    }
   ],
   "source": [
    "choiceA = \"oatmeal\"\n",
    "caloriesA = breakfast_dict.get(choiceA, -1)\n",
    "print(f\"Your {choiceA} had {caloriesA} calories.\")\n",
    "\n",
    "choiceB = \"waffles\"\n",
    "caloriesB = breakfast_dict.get(choiceB, -1)\n",
    "print(f\"Your {choiceB} had {caloriesB} calories.\")"
   ]
  },
  {
   "cell_type": "code",
   "execution_count": 5,
   "id": "b9d60a63",
   "metadata": {},
   "outputs": [
    {
     "name": "stdout",
     "output_type": "stream",
     "text": [
      "Food          Calories\n",
      "eggs          160\n",
      "apple         100\n",
      "pancakes      400\n",
      "waffles       300\n"
     ]
    }
   ],
   "source": [
    "breakfast_dict = {\"eggs\": 160, \"apple\": 100, \"pancakes\": 400, \"waffles\": 300,}\n",
    "print(\"Food          Calories\")\n",
    "\n",
    "for food in breakfast_dict:\n",
    "  print(f\"{food:13} {breakfast_dict[food]}\")"
   ]
  },
  {
   "cell_type": "code",
   "execution_count": 6,
   "id": "215636ef",
   "metadata": {},
   "outputs": [
    {
     "name": "stdout",
     "output_type": "stream",
     "text": [
      "Original dictionary: {'eggs': 160, 'apple': 100, 'pancakes': 400, 'waffles': 300}\n",
      "I couldn't find \"bacon\" in the dictionary\n"
     ]
    }
   ],
   "source": [
    "print(f\"Original dictionary: {breakfast_dict}\")\n",
    "\n",
    "choice = \"bacon\"\n",
    "\n",
    "if choice in breakfast_dict:\n",
    "  print(f\"{choice.upperCase()} has {breakfast_dict[choice]} calories\")\n",
    "  \n",
    "elif choice not in breakfast_dict:\n",
    "  print(f\"\"\"I couldn't find \"{choice}\" in the dictionary\"\"\")\n",
    "  \n",
    "else:\n",
    "  print(\"This logically cannot happen :-)\")"
   ]
  },
  {
   "cell_type": "code",
   "execution_count": 7,
   "id": "db494358",
   "metadata": {},
   "outputs": [
    {
     "name": "stdout",
     "output_type": "stream",
     "text": [
      "Before insert: {'eggs': 160, 'apple': 100, 'pancakes': 400, 'waffles': 300}\n",
      "After insert:  {'eggs': 160, 'apple': 100, 'pancakes': 400, 'waffles': 300, 'orange juice': 110}\n"
     ]
    }
   ],
   "source": [
    "breakfast_dict = {\"eggs\": 160, \"apple\": 100, \"pancakes\": 400, \"waffles\": 300,}\n",
    "print(f\"Before insert: {breakfast_dict}\")\n",
    "\n",
    "# Insert orange juice with 110 calories\n",
    "breakfast_dict[\"orange juice\"] = 110\n",
    "print(f\"After insert:  {breakfast_dict}\")"
   ]
  },
  {
   "cell_type": "code",
   "execution_count": 8,
   "id": "e949d880",
   "metadata": {},
   "outputs": [
    {
     "name": "stdout",
     "output_type": "stream",
     "text": [
      "Before update: {'eggs': 160, 'apple': 100, 'pancakes': 400, 'waffles': 300}\n",
      "After update:  {'eggs': 160, 'apple': 100, 'pancakes': 350, 'waffles': 300}\n"
     ]
    }
   ],
   "source": [
    "breakfast_dict = {\"eggs\": 160, \"apple\": 100, \"pancakes\": 400, \"waffles\": 300,}\n",
    "print(f\"Before update: {breakfast_dict}\")\n",
    "\n",
    "# Update the calorie count for pancakes\n",
    "breakfast_dict[\"pancakes\"] = 350\n",
    "print(f\"After update:  {breakfast_dict}\")"
   ]
  },
  {
   "cell_type": "code",
   "execution_count": 9,
   "id": "33313b03",
   "metadata": {},
   "outputs": [
    {
     "name": "stdout",
     "output_type": "stream",
     "text": [
      "Before delete: {'eggs': 160, 'apple': 100, 'pancakes': 400, 'waffles': 300}\n",
      "After delete:  {'eggs': 160, 'apple': 100, 'pancakes': 400}\n"
     ]
    }
   ],
   "source": [
    "breakfast_dict = {\"eggs\": 160, \"apple\": 100, \"pancakes\": 400, \"waffles\": 300,}\n",
    "print(f\"Before delete: {breakfast_dict}\")\n",
    "\n",
    "# Delete the waffles\n",
    "del breakfast_dict[\"waffles\"]\n",
    "print(f\"After delete:  {breakfast_dict}\")"
   ]
  },
  {
   "cell_type": "code",
   "execution_count": 1,
   "id": "fbbe3497",
   "metadata": {},
   "outputs": [
    {
     "name": "stdout",
     "output_type": "stream",
     "text": [
      "Food          Calories\n",
      "eggs          160\n",
      "apple         100\n",
      "pancakes      400\n",
      "waffles       300\n"
     ]
    }
   ],
   "source": [
    "breakfast_dict = {\"eggs\": 160, \"apple\": 100, \"pancakes\": 400, \"waffles\": 300,}\n",
    "print(\"Food          Calories\")\n",
    "\n",
    "for food in breakfast_dict:\n",
    "  print(f\"{food:13} {breakfast_dict[food]}\")"
   ]
  },
  {
   "cell_type": "code",
   "execution_count": 2,
   "id": "bb66fd0d",
   "metadata": {},
   "outputs": [
    {
     "data": {
      "text/plain": [
       "dict_items([('eggs', 160), ('apple', 100), ('pancakes', 400), ('waffles', 300)])"
      ]
     },
     "execution_count": 2,
     "metadata": {},
     "output_type": "execute_result"
    }
   ],
   "source": [
    "breakfast_dict.items() #tuple"
   ]
  },
  {
   "cell_type": "code",
   "execution_count": 7,
   "id": "e0e8c793",
   "metadata": {},
   "outputs": [
    {
     "name": "stdout",
     "output_type": "stream",
     "text": [
      "Food          Calories\n",
      "eggs          160\n",
      "apple         100\n",
      "pancakes      400\n",
      "waffles       300\n"
     ]
    }
   ],
   "source": [
    "print(\"Food          Calories\")\n",
    "for key_value in breakfast_dict.items():\n",
    "    #print(key_value)\n",
    "    key = key_value[0]\n",
    "    value = key_value[1]\n",
    "    print(f\"{key:13} {value}\")"
   ]
  },
  {
   "cell_type": "markdown",
   "id": "ad65f048",
   "metadata": {},
   "source": [
    "## Tuples\n",
    "\n",
    "The method **`items()`** is returning a new data type called **`dict_items`** which is a sub-type of **`tuple`**.\n",
    "\n",
    "We will elaborate on sub-types a bit later, but a **`tuple`** is an immutable sequence of values, much like a list.\n",
    "\n",
    "As seen above, elements of a tuple are accessed like an array.\n",
    "\n",
    "In this case, index **`0`** was the key and **`1`** was the value.\n",
    "\n",
    "Here are some more examples..."
   ]
  },
  {
   "cell_type": "code",
   "execution_count": 17,
   "id": "a22df180",
   "metadata": {},
   "outputs": [
    {
     "name": "stdout",
     "output_type": "stream",
     "text": [
      "breakfast_dict.items() is of type <class 'dict_items'>\n",
      "my_tuple is of type <class 'tuple'>\n",
      "\n",
      "First item:  apple\n",
      "Second item: 100\n"
     ]
    }
   ],
   "source": [
    "dict_type = type(breakfast_dict.items())                # What type is it exactly?\n",
    "print(f\"breakfast_dict.items() is of type {dict_type}\") # Print the result\n",
    "\n",
    "my_tuple = (\"apple\", 100)                               # Create your own tuple\n",
    "tuple_type = type(my_tuple)                             # What type is it exactly?\n",
    "print(f\"my_tuple is of type {tuple_type}\")              # Print the result\n",
    "\n",
    "first_item = my_tuple[0]                                # Access the first element of the tuple\n",
    "second_item = my_tuple[1]                               # Access the second element of the tuple\n",
    "\n",
    "print()                                                 # Print a blank line\n",
    "print(f\"First item:  {first_item}\")                     # Print the first item\n",
    "print(f\"Second item: {second_item}\")                    # Print the second item"
   ]
  },
  {
   "cell_type": "markdown",
   "id": "7dbd22c2",
   "metadata": {},
   "source": [
    "Tuples can also be \"unpacked\" as seen here:"
   ]
  },
  {
   "cell_type": "code",
   "execution_count": 18,
   "id": "f89a4e1f",
   "metadata": {},
   "outputs": [
    {
     "name": "stdout",
     "output_type": "stream",
     "text": [
      "Name: Smith\n",
      "Age:  39\n"
     ]
    }
   ],
   "source": [
    "my_tuple = (\"Smith\", 39)    # Create your own tuple\n",
    "last_name, age = my_tuple   # Unpack the tuple\n",
    "\n",
    "print(f\"Name: {last_name}\") # Print the last name\n",
    "print(f\"Age:  {age}\")       # Print the age"
   ]
  },
  {
   "cell_type": "markdown",
   "id": "a63ad1ec",
   "metadata": {},
   "source": [
    "Back to our dictionary and our **`dict_items`**.\n",
    "\n",
    "As a tuple, we can also unpack what was previously in the **`key_value`** variable:"
   ]
  },
  {
   "cell_type": "code",
   "execution_count": 19,
   "id": "3485959c",
   "metadata": {},
   "outputs": [
    {
     "name": "stdout",
     "output_type": "stream",
     "text": [
      "Food          Calories\n",
      "eggs          160\n",
      "apple         100\n",
      "pancakes      400\n",
      "waffles       300\n"
     ]
    }
   ],
   "source": [
    "print(\"Food          Calories\")\n",
    "for food, calories in breakfast_dict.items():\n",
    "  print(f\"{food:13} {calories}\")"
   ]
  },
  {
   "cell_type": "markdown",
   "id": "4364bf4e",
   "metadata": {},
   "source": [
    "## Classes\n",
    "\n",
    "A [_class_](https://www.w3schools.com/python/python_classes.asp) is a custom type that you can define that is in essence a custom data structure.\n",
    "\n",
    "* The class definition itself serves as a \"template\" that you can use to create any number of individual _objects_ (also known as _instances_ in object oriented programming).\n",
    "* These objects will have the same characteristics and behaviors, but their own data values (also known as _attributes_ or _properties_ in OOP).\n",
    "\n",
    "As an analogy, you can think of a class as though it were a blueprint for a house.\n",
    "\n",
    "* The blueprint isn't a house itself, but it describes how to build a house.\n",
    "* From one blueprint (class), a developer could build any number of houses (objects/instances).\n",
    "* Each house would have the same floorplan, but each house could have its own unique paint colors, floor tiling, etc. (attributes/properties).\n",
    "\n",
    "NOTE: We've already encountered and used classes in this course. \n",
    "\n",
    "For example, Python has a built-in **`str`** class that defines the capabilities of all strings. \n",
    "\n",
    "Similarly, **`list`** and **`dict`** are built-in classes defining the capabilities of lists and dictionaries, respectively. \n",
    "\n",
    "You can see that for yourself by using the **`help()`** function on these types:"
   ]
  },
  {
   "cell_type": "markdown",
   "id": "ae15a35b",
   "metadata": {},
   "source": [
    "## Class Methods\n",
    "\n",
    "A class definition usually consists of one or more function definitions, which are also called _methods_.\n",
    "\n",
    "* These methods are automatically associated with each object created using the class.\n",
    "* When you invoke a method, Python automatically passes a reference to the associated object as the first argument, followed by any other arguments that you passed explicitly.\n",
    "* By convention, `self` is used as the parameter name for the object reference.\n",
    "\n",
    "Here's a simple example of a class definition and its use:"
   ]
  },
  {
   "cell_type": "code",
   "execution_count": 14,
   "id": "d7c84013",
   "metadata": {},
   "outputs": [
    {
     "name": "stdout",
     "output_type": "stream",
     "text": [
      "<__main__.Thing object at 0x000002BF5E6B0E20> says, \"Hello!\"\n",
      "<__main__.Thing object at 0x000002BF5E6E92E0> says, \"Guten Tag!\"\n"
     ]
    }
   ],
   "source": [
    "class Thing:\n",
    "  def greet(self, greeting=\"Hello!\"):\n",
    "    print(f'{self} says, \"{greeting}\"')\n",
    "\n",
    "thing1 = Thing()  # Create an instance of Thing\n",
    "thing2 = Thing()  # Create another Thing\n",
    "\n",
    "thing1.greet()                # Call the greet() method on thing1\n",
    "thing2.greet(\"Guten Tag!\")    # Call the greet() method on thing2"
   ]
  },
  {
   "cell_type": "markdown",
   "id": "af1d044e",
   "metadata": {},
   "source": [
    "Object 'self' reference to thing\n",
    "\n",
    "Thing being a class, thing1 & thing2 being an instance.\n",
    "\n",
    "Thing is a blueprint. Thing1 is my house. Thing2 is my neighbour's house"
   ]
  },
  {
   "cell_type": "markdown",
   "id": "f8384ac2",
   "metadata": {},
   "source": [
    "\n",
    "Wow, that's ugly. \n",
    "\n",
    "We can see that the value of `self` is different for `thing1` and `thing2` because each is a separate instance of `Thing`. \n",
    "\n",
    "But the string representation of `self` is not informative to us as programmers. \n",
    "\n",
    "To make things more interesting and useful, we need to define some class properties."
   ]
  },
  {
   "cell_type": "markdown",
   "id": "910d591b",
   "metadata": {},
   "source": [
    "#### Class Properties and the Constructor Method\n",
    "\n",
    "Class properties are usually defined in a special method called a _constructor_.\n",
    "\n",
    "* The constructor method **must** be named `__init__()`.\n",
    "* Python calls the constructor method automatically whenever you create an instance of the class.\n",
    "* The purpose of the constructor is to initialize the newly created instance, most typically by setting the initial values of the object's properties.\n",
    "\n",
    "The following is an example of a more interesting class that includes a constructor method that sets two properties and two additional methods:"
   ]
  },
  {
   "cell_type": "code",
   "execution_count": 8,
   "id": "3adfbc12",
   "metadata": {},
   "outputs": [
    {
     "name": "stdout",
     "output_type": "stream",
     "text": [
      "<__main__.Person object at 0x7fd4c8dd2250>\n",
      "Ming-Na says, \"Hello!\"\n",
      "Anil says, \"Hi!\"\n",
      "\n",
      "person3's current name: Carlos, Walter\n",
      "person3's updated name: Carlos, Wendy\n"
     ]
    }
   ],
   "source": [
    "class Person:\n",
    "  \n",
    "  # Defining the class constructor method\n",
    "  def __init__(self, first_name, last_name):\n",
    "    # Here we create the properties on self with the values provided in the constructor\n",
    "    self.first_name = first_name\n",
    "    self.last_name = last_name\n",
    "  \n",
    "  # Defining other class methods\n",
    "  def greet(self, greeting=\"Hello!\"):\n",
    "    print(f'{self.first_name} says, \"{greeting}\"')\n",
    "    \n",
    "  def full_name(self):\n",
    "    return self.last_name + \", \" + self.first_name\n",
    "\n",
    "person1 = Person(\"Ming-Na\", \"Wen\")\n",
    "person2 = Person(first_name=\"Anil\", last_name=\"Kapoor\")\n",
    "person3 = Person(\"Walter\", \"Carlos\")\n",
    "\n",
    "person1.greet()\n",
    "person2.greet(\"Hi!\")\n",
    "\n",
    "print()\n",
    "\n",
    "print(f\"person3's current name: {person3.full_name()}\")\n",
    "person3.first_name = \"Wendy\"  # You can change the value of object properties\n",
    "print(f\"person3's updated name: {person3.full_name()}\")"
   ]
  },
  {
   "cell_type": "code",
   "execution_count": 1,
   "id": "51f95e0b",
   "metadata": {},
   "outputs": [],
   "source": [
    "# ANSWER\n",
    "def item_count(input_list):\n",
    "  output_dict = {}  # Initialize an empty dictionary\n",
    "  \n",
    "  for item in input_list:\n",
    "    if item not in output_dict:\n",
    "      # Create an element for the item with an initial count of 1\n",
    "      output_dict[item] = 1\n",
    "    else:\n",
    "      # Add 1 to the current count for the item\n",
    "      output_dict[item] += 1\n",
    "      \n",
    "  return output_dict"
   ]
  },
  {
   "cell_type": "code",
   "execution_count": 2,
   "id": "7f59c7fe",
   "metadata": {},
   "outputs": [
    {
     "name": "stdout",
     "output_type": "stream",
     "text": [
      "Congratulations! All tests passed.\n"
     ]
    }
   ],
   "source": [
    "empty_list = []\n",
    "empty_count_result = {}\n",
    "assert item_count(empty_list) == empty_count_result\n",
    "\n",
    "breakfast_list = [\"pancake\", \"egg\", \"egg\", \"pancake\", \"coffee\", \"pancake\"]\n",
    "breakfast_count_result = {\"pancake\": 3, \"egg\": 2, \"coffee\": 1, }\n",
    "assert item_count(breakfast_list) == breakfast_count_result\n",
    "\n",
    "print(\"Congratulations! All tests passed.\")"
   ]
  },
  {
   "cell_type": "code",
   "execution_count": null,
   "id": "489ef00c",
   "metadata": {},
   "outputs": [],
   "source": [
    "1. Write the test\n",
    "2. Make the test failed\n",
    "3. Write the code\n",
    "4. Make the test passed\n",
    "\n",
    "#Software development method recommended by Jacob"
   ]
  }
 ],
 "metadata": {
  "kernelspec": {
   "display_name": "Python 3 (ipykernel)",
   "language": "python",
   "name": "python3"
  },
  "language_info": {
   "codemirror_mode": {
    "name": "ipython",
    "version": 3
   },
   "file_extension": ".py",
   "mimetype": "text/x-python",
   "name": "python",
   "nbconvert_exporter": "python",
   "pygments_lexer": "ipython3",
   "version": "3.9.13"
  }
 },
 "nbformat": 4,
 "nbformat_minor": 5
}
