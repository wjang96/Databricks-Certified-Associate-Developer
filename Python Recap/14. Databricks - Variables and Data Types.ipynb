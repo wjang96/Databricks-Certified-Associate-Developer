{
 "cells": [
  {
   "cell_type": "code",
   "execution_count": 2,
   "id": "2ab5ede9",
   "metadata": {},
   "outputs": [
    {
     "name": "stdout",
     "output_type": "stream",
     "text": [
      "The best food ever isice-cream, especially when it's hot outside\n"
     ]
    }
   ],
   "source": [
    "# Without f-strings, we have to concatenate the values\n",
    "best_food = \"ice-cream\"\n",
    "text = \"The best food ever is\" + best_food + \", especially when it's hot outside\"\n",
    "print(text)"
   ]
  },
  {
   "cell_type": "code",
   "execution_count": 3,
   "id": "54e777da",
   "metadata": {},
   "outputs": [
    {
     "name": "stdout",
     "output_type": "stream",
     "text": [
      "The best food ever is ice-cream, especially when it's hot outside!\n"
     ]
    }
   ],
   "source": [
    "# With f-strings, we can \"inject the variable directly into the string\"\n",
    "# Additionally certain types of bugs are easier to catch at a quick glance\n",
    "text = f\"The best food ever is {best_food}, especially when it's hot outside!\"\n",
    "print(text)"
   ]
  },
  {
   "cell_type": "code",
   "execution_count": 4,
   "id": "51892afb",
   "metadata": {},
   "outputs": [
    {
     "name": "stdout",
     "output_type": "stream",
     "text": [
      "All done\n"
     ]
    }
   ],
   "source": [
    "'Assert statements and Type checking'\n",
    "assert type(best_food) == str, \"If this fails, it will print this message\"\n",
    "print(\"All done\")"
   ]
  },
  {
   "cell_type": "code",
   "execution_count": 5,
   "id": "69eb1d1d",
   "metadata": {},
   "outputs": [
    {
     "ename": "AssertionError",
     "evalue": "Expected best_food to be of type str but found <class 'str'> instead",
     "output_type": "error",
     "traceback": [
      "\u001b[1;31m---------------------------------------------------------------------------\u001b[0m",
      "\u001b[1;31mAssertionError\u001b[0m                            Traceback (most recent call last)",
      "\u001b[1;32mC:\\Users\\WEIJIN~1\\AppData\\Local\\Temp/ipykernel_7728/3667542085.py\u001b[0m in \u001b[0;36m<module>\u001b[1;34m\u001b[0m\n\u001b[1;32m----> 1\u001b[1;33m \u001b[1;32massert\u001b[0m \u001b[0mtype\u001b[0m\u001b[1;33m(\u001b[0m\u001b[0mbest_food\u001b[0m\u001b[1;33m)\u001b[0m \u001b[1;33m==\u001b[0m \u001b[0mint\u001b[0m\u001b[1;33m,\u001b[0m \u001b[1;34mf\"Expected best_food to be of type str but found {type(best_food)} instead\"\u001b[0m\u001b[1;33m\u001b[0m\u001b[1;33m\u001b[0m\u001b[0m\n\u001b[0m\u001b[0;32m      2\u001b[0m \u001b[0mprint\u001b[0m\u001b[1;33m(\u001b[0m\u001b[1;34m\"All done\"\u001b[0m\u001b[1;33m)\u001b[0m\u001b[1;33m\u001b[0m\u001b[1;33m\u001b[0m\u001b[0m\n",
      "\u001b[1;31mAssertionError\u001b[0m: Expected best_food to be of type str but found <class 'str'> instead"
     ]
    }
   ],
   "source": [
    "assert type(best_food) == int, f\"Expected best_food to be of type str but found {type(best_food)} instead\"\n",
    "print(\"All done\")\n",
    "\n",
    "#notice that \"All done\" is not printed, as assert will stop the exection of the program"
   ]
  },
  {
   "cell_type": "code",
   "execution_count": null,
   "id": "4a1c47cd",
   "metadata": {},
   "outputs": [],
   "source": []
  }
 ],
 "metadata": {
  "kernelspec": {
   "display_name": "Python 3 (ipykernel)",
   "language": "python",
   "name": "python3"
  },
  "language_info": {
   "codemirror_mode": {
    "name": "ipython",
    "version": 3
   },
   "file_extension": ".py",
   "mimetype": "text/x-python",
   "name": "python",
   "nbconvert_exporter": "python",
   "pygments_lexer": "ipython3",
   "version": "3.9.13"
  }
 },
 "nbformat": 4,
 "nbformat_minor": 5
}
